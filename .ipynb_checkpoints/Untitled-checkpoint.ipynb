{
 "cells": [
  {
   "cell_type": "code",
   "execution_count": 1,
   "metadata": {},
   "outputs": [],
   "source": [
    "html_doc = \"\"\"\n",
    "<html><head><title>The Dormouse's story</title></head>\n",
    "<body>\n",
    "<p class=\"title\"><b>The Dormouse's story</b></p>\n",
    "\n",
    "<p class=\"story\">Once upon a time there were three little sisters; and their names were\n",
    "<a href=\"http://example.com/elsie\" class=\"sister\" id=\"link1\">Elsie</a>,\n",
    "<a href=\"http://example.com/lacie\" class=\"sister\" id=\"link2\">Lacie</a> and\n",
    "<a href=\"http://example.com/tillie\" class=\"sister\" id=\"link3\">Tillie</a>;\n",
    "and they lived at the bottom of a well.</p>\n",
    "\n",
    "<p class=\"story\">...</p>\n",
    "\"\"\""
   ]
  },
  {
   "cell_type": "code",
   "execution_count": 2,
   "metadata": {},
   "outputs": [
    {
     "name": "stdout",
     "output_type": "stream",
     "text": [
      "<html>\n",
      " <head>\n",
      "  <title>\n",
      "   The Dormouse's story\n",
      "  </title>\n",
      " </head>\n",
      " <body>\n",
      "  <p class=\"title\">\n",
      "   <b>\n",
      "    The Dormouse's story\n",
      "   </b>\n",
      "  </p>\n",
      "  <p class=\"story\">\n",
      "   Once upon a time there were three little sisters; and their names were\n",
      "   <a class=\"sister\" href=\"http://example.com/elsie\" id=\"link1\">\n",
      "    Elsie\n",
      "   </a>\n",
      "   ,\n",
      "   <a class=\"sister\" href=\"http://example.com/lacie\" id=\"link2\">\n",
      "    Lacie\n",
      "   </a>\n",
      "   and\n",
      "   <a class=\"sister\" href=\"http://example.com/tillie\" id=\"link3\">\n",
      "    Tillie\n",
      "   </a>\n",
      "   ;\n",
      "and they lived at the bottom of a well.\n",
      "  </p>\n",
      "  <p class=\"story\">\n",
      "   ...\n",
      "  </p>\n",
      " </body>\n",
      "</html>\n"
     ]
    }
   ],
   "source": [
    "from bs4 import BeautifulSoup\n",
    "soup = BeautifulSoup(html_doc, 'html.parser')\n",
    "\n",
    "print(soup.prettify())"
   ]
  },
  {
   "cell_type": "code",
   "execution_count": 3,
   "metadata": {},
   "outputs": [
    {
     "name": "stdout",
     "output_type": "stream",
     "text": [
      "http://example.com/elsie\n",
      "http://example.com/lacie\n",
      "http://example.com/tillie\n"
     ]
    }
   ],
   "source": [
    "for link in soup.find_all('a'):\n",
    "    print(link.get('href'))"
   ]
  },
  {
   "cell_type": "code",
   "execution_count": 4,
   "metadata": {},
   "outputs": [
    {
     "name": "stdout",
     "output_type": "stream",
     "text": [
      "\n",
      "The Dormouse's story\n",
      "\n",
      "The Dormouse's story\n",
      "Once upon a time there were three little sisters; and their names were\n",
      "Elsie,\n",
      "Lacie and\n",
      "Tillie;\n",
      "and they lived at the bottom of a well.\n",
      "...\n",
      "\n"
     ]
    }
   ],
   "source": [
    "print(soup.get_text())"
   ]
  },
  {
   "cell_type": "code",
   "execution_count": null,
   "metadata": {},
   "outputs": [],
   "source": [
    "Авиапарк - м. ЦСКА/Динамо/Аэропорт, парковка - есть ( количество мест, платность)"
   ]
  },
  {
   "cell_type": "code",
   "execution_count": null,
   "metadata": {},
   "outputs": [],
   "source": [
    "Ривьера - м. Автозаводская/ЗИЛ, парковка - есть"
   ]
  },
  {
   "cell_type": "code",
   "execution_count": null,
   "metadata": {},
   "outputs": [],
   "source": [
    "Каширская плаза - м. Домодедовская/Шипиловская/Орехово, парковка - есть"
   ]
  },
  {
   "cell_type": "code",
   "execution_count": null,
   "metadata": {},
   "outputs": [],
   "source": [
    "Мега Химки - м. Речной вокзал (маршрутка), парковка - есть"
   ]
  },
  {
   "cell_type": "code",
   "execution_count": null,
   "metadata": {},
   "outputs": [],
   "source": [
    "Метрополис - м. Войковская, парковка - есть"
   ]
  },
  {
   "cell_type": "code",
   "execution_count": 9,
   "metadata": {},
   "outputs": [],
   "source": [
    "mega_saturday = \"\"\" <div class=\"business-attendance-view__bars\"><div class=\"business-attendance-view__bar\" data-time=\"00:00\" style=\"height: 0%;\"></div><div class=\"business-attendance-view__bar\" data-time=\"01:00\" style=\"height: 0%;\"></div><div class=\"business-attendance-view__bar\" data-time=\"02:00\" style=\"height: 0%;\"></div><div class=\"business-attendance-view__bar\" data-time=\"03:00\" style=\"height: 0%;\"></div><div class=\"business-attendance-view__bar\" data-time=\"04:00\" style=\"height: 0%;\"></div><div class=\"business-attendance-view__bar\" data-time=\"05:00\" style=\"height: 0%;\"></div><div class=\"business-attendance-view__bar\" data-time=\"06:00\" style=\"height: 0%;\"></div><div class=\"business-attendance-view__bar\" data-time=\"07:00\" style=\"height: 0%;\"></div><div class=\"business-attendance-view__bar\" data-time=\"08:00\" style=\"height: 0%;\"></div><div class=\"business-attendance-view__bar\" data-time=\"09:00\" style=\"height: 0%;\"></div><div class=\"business-attendance-view__bar\" data-time=\"10:00\" style=\"height: 42%;\"></div><div class=\"business-attendance-view__bar\" data-time=\"11:00\" style=\"height: 65%;\"></div><div class=\"business-attendance-view__bar\" data-time=\"12:00\" style=\"height: 79%;\"></div><div class=\"business-attendance-view__bar\" data-time=\"13:00\" style=\"height: 88%;\"></div><div class=\"business-attendance-view__bar\" data-time=\"14:00\" style=\"height: 94%;\"></div><div class=\"business-attendance-view__bar\" data-time=\"15:00\" style=\"height: 98%;\"></div><div class=\"business-attendance-view__bar\" data-time=\"16:00\" style=\"height: 99%;\"></div><div class=\"business-attendance-view__bar\" data-time=\"17:00\" style=\"height: 100%;\"></div><div class=\"business-attendance-view__bar\" data-time=\"18:00\" style=\"height: 98%;\"></div><div class=\"business-attendance-view__bar _active\" data-time=\"19:00\" style=\"height: 90%;\"></div><div class=\"business-attendance-view__bar\" data-time=\"20:00\" style=\"height: 78%;\"></div><div class=\"business-attendance-view__bar\" data-time=\"21:00\" style=\"height: 61%;\"></div><div class=\"business-attendance-view__bar\" data-time=\"22:00\" style=\"height: 43%;\"></div><div class=\"business-attendance-view__bar\" data-time=\"23:00\" style=\"height: 23%;\"></div></div> \"\"\""
   ]
  },
  {
   "cell_type": "code",
   "execution_count": 20,
   "metadata": {},
   "outputs": [
    {
     "name": "stdout",
     "output_type": "stream",
     "text": [
      "<div class=\"business-attendance-view__bars\">\n",
      " <div class=\"business-attendance-view__bar\" data-time=\"00:00\" style=\"height: 0%;\">\n",
      " </div>\n",
      " <div class=\"business-attendance-view__bar\" data-time=\"01:00\" style=\"height: 0%;\">\n",
      " </div>\n",
      " <div class=\"business-attendance-view__bar\" data-time=\"02:00\" style=\"height: 0%;\">\n",
      " </div>\n",
      " <div class=\"business-attendance-view__bar\" data-time=\"03:00\" style=\"height: 0%;\">\n",
      " </div>\n",
      " <div class=\"business-attendance-view__bar\" data-time=\"04:00\" style=\"height: 0%;\">\n",
      " </div>\n",
      " <div class=\"business-attendance-view__bar\" data-time=\"05:00\" style=\"height: 0%;\">\n",
      " </div>\n",
      " <div class=\"business-attendance-view__bar\" data-time=\"06:00\" style=\"height: 0%;\">\n",
      " </div>\n",
      " <div class=\"business-attendance-view__bar\" data-time=\"07:00\" style=\"height: 0%;\">\n",
      " </div>\n",
      " <div class=\"business-attendance-view__bar\" data-time=\"08:00\" style=\"height: 0%;\">\n",
      " </div>\n",
      " <div class=\"business-attendance-view__bar\" data-time=\"09:00\" style=\"height: 0%;\">\n",
      " </div>\n",
      " <div class=\"business-attendance-view__bar\" data-time=\"10:00\" style=\"height: 42%;\">\n",
      " </div>\n",
      " <div class=\"business-attendance-view__bar\" data-time=\"11:00\" style=\"height: 65%;\">\n",
      " </div>\n",
      " <div class=\"business-attendance-view__bar\" data-time=\"12:00\" style=\"height: 79%;\">\n",
      " </div>\n",
      " <div class=\"business-attendance-view__bar\" data-time=\"13:00\" style=\"height: 88%;\">\n",
      " </div>\n",
      " <div class=\"business-attendance-view__bar\" data-time=\"14:00\" style=\"height: 94%;\">\n",
      " </div>\n",
      " <div class=\"business-attendance-view__bar\" data-time=\"15:00\" style=\"height: 98%;\">\n",
      " </div>\n",
      " <div class=\"business-attendance-view__bar\" data-time=\"16:00\" style=\"height: 99%;\">\n",
      " </div>\n",
      " <div class=\"business-attendance-view__bar\" data-time=\"17:00\" style=\"height: 100%;\">\n",
      " </div>\n",
      " <div class=\"business-attendance-view__bar\" data-time=\"18:00\" style=\"height: 98%;\">\n",
      " </div>\n",
      " <div class=\"business-attendance-view__bar _active\" data-time=\"19:00\" style=\"height: 90%;\">\n",
      " </div>\n",
      " <div class=\"business-attendance-view__bar\" data-time=\"20:00\" style=\"height: 78%;\">\n",
      " </div>\n",
      " <div class=\"business-attendance-view__bar\" data-time=\"21:00\" style=\"height: 61%;\">\n",
      " </div>\n",
      " <div class=\"business-attendance-view__bar\" data-time=\"22:00\" style=\"height: 43%;\">\n",
      " </div>\n",
      " <div class=\"business-attendance-view__bar\" data-time=\"23:00\" style=\"height: 23%;\">\n",
      " </div>\n",
      "</div>\n",
      "\n"
     ]
    }
   ],
   "source": [
    "mega_soup = BeautifulSoup(mega_saturday, 'html.parser')\n",
    "\n",
    "print(mega_soup.prettify())"
   ]
  },
  {
   "cell_type": "code",
   "execution_count": 21,
   "metadata": {},
   "outputs": [
    {
     "data": {
      "text/plain": [
       "[]"
      ]
     },
     "execution_count": 21,
     "metadata": {},
     "output_type": "execute_result"
    }
   ],
   "source": [
    "#data-time=\"12:00\" style=\"height: 79%;\">\n",
    "\n",
    "#mega_soup = BeautifulSoup('<div data-time=\"value\">\\</div>')\n",
    "#mega_soup.find_all(data-time=\"value\")\n",
    "mega_soup.find_all(attrs={\"data-time\": \"value\"})\n",
    "# [<div data-foo=\"value\">foo!</div>]\n",
    "\n",
    "#for link in mega_soup.find_all('a'):\n",
    "#print(link.get('div'))"
   ]
  },
  {
   "cell_type": "code",
   "execution_count": 23,
   "metadata": {},
   "outputs": [
    {
     "ename": "SyntaxError",
     "evalue": "invalid syntax (<ipython-input-23-41f76f9445f6>, line 1)",
     "output_type": "error",
     "traceback": [
      "\u001b[1;36m  File \u001b[1;32m\"<ipython-input-23-41f76f9445f6>\"\u001b[1;36m, line \u001b[1;32m1\u001b[0m\n\u001b[1;33m    response = requests.get(http://yandex.ru/maps/213/moscow/?ll=37.411189%2C55.895796&mode=poi&poi%5Bpoint%5D=37.396774%2C55.911052&poi%5Buri%5D=ymapsbm1%3A%2F%2Forg%3Foid%3D59907767391&z=13)\u001b[0m\n\u001b[1;37m                                ^\u001b[0m\n\u001b[1;31mSyntaxError\u001b[0m\u001b[1;31m:\u001b[0m invalid syntax\n"
     ]
    }
   ],
   "source": [
    "#response = requests.get(http://yandex.ru/maps/213/moscow/?ll=37.411189%2C55.895796&mode=poi&poi%5Bpoint%5D=37.396774%2C55.911052&poi%5Buri%5D=ymapsbm1%3A%2F%2Forg%3Foid%3D59907767391&z=13)"
   ]
  },
  {
   "cell_type": "code",
   "execution_count": 24,
   "metadata": {},
   "outputs": [],
   "source": [
    "import requests\n",
    "import json\n",
    "\n",
    "class GooglePlaces(object):\n",
    "    def __init__(self, apiKey):\n",
    "        super(GooglePlaces, self).__init__()\n",
    "        self.apiKey = apiKey\n"
   ]
  },
  {
   "cell_type": "code",
   "execution_count": 25,
   "metadata": {},
   "outputs": [],
   "source": [
    "import requests\n",
    "import json\n",
    "import time\n",
    "class GooglePlaces(object):\n",
    "    def __init__(self, apiKey):\n",
    "        super(GooglePlaces, self).__init__()\n",
    "        self.apiKey = apiKey\n",
    "\n",
    "    def search_places_by_coordinate(self, location, radius, types):\n",
    "        endpoint_url = \"https://maps.googleapis.com/maps/api/place/nearbysearch/json\"\n",
    "        places = []\n",
    "        params = {\n",
    "            'location': location,\n",
    "            'radius': radius,\n",
    "            'types': types,\n",
    "            'key': self.apiKey\n",
    "        }\n",
    "        res = requests.get(endpoint_url, params = params)\n",
    "        results =  json.loads(res.content)\n",
    "        places.extend(results['results'])\n",
    "        time.sleep(2)\n",
    "        while \"next_page_token\" in results:\n",
    "            params['pagetoken'] = results['next_page_token'],\n",
    "            res = requests.get(endpoint_url, params = params)\n",
    "            results = json.loads(res.content)\n",
    "            places.extend(results['results'])\n",
    "            time.sleep(2)\n",
    "        return places\n"
   ]
  },
  {
   "cell_type": "code",
   "execution_count": null,
   "metadata": {},
   "outputs": [],
   "source": []
  },
  {
   "cell_type": "code",
   "execution_count": null,
   "metadata": {},
   "outputs": [],
   "source": []
  },
  {
   "cell_type": "code",
   "execution_count": null,
   "metadata": {},
   "outputs": [],
   "source": []
  },
  {
   "cell_type": "code",
   "execution_count": null,
   "metadata": {},
   "outputs": [],
   "source": []
  },
  {
   "cell_type": "code",
   "execution_count": null,
   "metadata": {},
   "outputs": [],
   "source": []
  },
  {
   "cell_type": "code",
   "execution_count": null,
   "metadata": {},
   "outputs": [],
   "source": []
  }
 ],
 "metadata": {
  "kernelspec": {
   "display_name": "Python 3",
   "language": "python",
   "name": "python3"
  },
  "language_info": {
   "codemirror_mode": {
    "name": "ipython",
    "version": 3
   },
   "file_extension": ".py",
   "mimetype": "text/x-python",
   "name": "python",
   "nbconvert_exporter": "python",
   "pygments_lexer": "ipython3",
   "version": "3.7.1"
  }
 },
 "nbformat": 4,
 "nbformat_minor": 2
}
